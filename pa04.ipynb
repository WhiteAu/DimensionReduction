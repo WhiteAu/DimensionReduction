{
 "metadata": {
  "name": "pa04"
 }, 
 "nbformat": 2, 
 "worksheets": [
  {
   "cells": [
    {
     "cell_type": "markdown", 
     "source": [
      "#PA04 Unsupervised Learning: dimensionality reduction", 
      "", 
      "In this short programming assignment you will apply dimensionality reduction on the movie rating data from PA03."
     ]
    }, 
    {
     "cell_type": "markdown", 
     "source": [
      "###Part I: Collaborative Filtering ratings revisited", 
      "", 
      "In PA03 you used user-user and item-item similarity to generate expected ratings by collaborative filtering.", 
      "We defined similarity by representing each user (or item) as sparse vectors in a high-dimensional space. For example,", 
      "in the user-user similarity case, we represented each user as a vector in a space of dimensions equal to the number of movies", 
      "in the dataset. We then computed cosine similarities in this high-dimensional space.", 
      "", 
      "In this assignment you will perform a dimensionality reduction method before computing similarities."
     ]
    }, 
    {
     "cell_type": "markdown", 
     "source": [
      "Q1: Implement the principal component analysis method. To compute a $k$-dimensional embedding (where $k$ is much lower than the data-dimensionality $D$), you need to calculate", 
      "the first $k$ eigenvectors of the sparse ratings matrix. You should get acquainted with the [`scipy.sparse`](http://docs.scipy.org/doc/scipy/reference/sparse.html) library, ", 
      "and its linear algebra facilities [`numpy.sparse.linalg`](http://docs.scipy.org/doc/scipy/reference/sparse.linalg.html). You should implement a function of signature", 
      "", 
      "<pre>", 
      "<code>", 
      "def pca(df, axis=0, k):", 
      "\"\"\"", 
      "Compute a k-dimensional embedding of matrix mat using PCA", 
      "", 
      "Arguments:", 
      "df: a two-dimensional pandas DataFrame with columns userid, itemid and rating", 
      "axis: which axis to treat as examples (0 or 1)", 
      "k: number of dimensions in embedding", 
      "", 
      "Returns:", 
      "numpy matrix of shape (m,k) where m is the number of unique userids in df when axis=0 ", 
      "and m is the number of unique itemids in df when axis=1", 
      "\"\"\"", 
      "</code>", 
      "</pred>"
     ]
    }, 
    {
     "cell_type": "code", 
     "collapsed": true, 
     "input": [
      "# this is useful when updating code outside the notebook", 
      "%load_ext autoreload", 
      "%autoreload 2"
     ], 
     "language": "python", 
     "outputs": [], 
     "prompt_number": 4
    }, 
    {
     "cell_type": "code", 
     "collapsed": false, 
     "input": [
      "", 
      "", 
      "import pandas as pd", 
      "import numpy as np", 
      "import scipy as sp"
     ], 
     "language": "python", 
     "outputs": [
      {
       "ename": "TypeError", 
       "evalue": "super(type, obj): obj must be an instance or subtype of type", 
       "output_type": "pyerr", 
       "traceback": [
        "Traceback (most recent call last):\n", 
        "  File \"/usr/local/epd_free-7.3-2-rh5-x86_64/lib/python2.7/site-packages/IPython/zmq/ipkernel.py\", line 280, in execute_request\n    shell.run_cell(code, store_history=True)\n", 
        "  File \"/usr/local/epd_free-7.3-2-rh5-x86_64/lib/python2.7/site-packages/IPython/core/interactiveshell.py\", line 2370, in run_cell\n    self.input_splitter.push(line)\n", 
        "  File \"/usr/local/epd_free-7.3-2-rh5-x86_64/lib/python2.7/site-packages/IPython/core/inputsplitter.py\", line 711, in push\n    return super(IPythonInputSplitter, self).push(lines)\n", 
        "TypeError: super(type, obj): obj must be an instance or subtype of type\n"
       ]
      }
     ], 
     "prompt_number": 5
    }, 
    {
     "cell_type": "code", 
     "collapsed": false, 
     "input": [
      "import realpca as pca"
     ], 
     "language": "python", 
     "outputs": [
      {
       "ename": "TypeError", 
       "evalue": "super(type, obj): obj must be an instance or subtype of type", 
       "output_type": "pyerr", 
       "traceback": [
        "Traceback (most recent call last):\n", 
        "  File \"/usr/local/epd_free-7.3-2-rh5-x86_64/lib/python2.7/site-packages/IPython/zmq/ipkernel.py\", line 280, in execute_request\n    shell.run_cell(code, store_history=True)\n", 
        "  File \"/usr/local/epd_free-7.3-2-rh5-x86_64/lib/python2.7/site-packages/IPython/core/interactiveshell.py\", line 2370, in run_cell\n    self.input_splitter.push(line)\n", 
        "  File \"/usr/local/epd_free-7.3-2-rh5-x86_64/lib/python2.7/site-packages/IPython/core/inputsplitter.py\", line 754, in push\n    push = super(IPythonInputSplitter, self).push\n", 
        "TypeError: super(type, obj): obj must be an instance or subtype of type\n"
       ]
      }
     ], 
     "prompt_number": 5
    }, 
    {
     "cell_type": "markdown", 
     "source": [
      "A snapshot of the function is below", 
      "", 
      "<pre>", 
      "<code>", 
      "class pca:", 
      "    \"\"\"", 
      "    Compute a k-dimensional embedding of matrix mat using PCA", 
      "    Arguments:", 
      "    df: a two-dimensional pandas DataFrame with columns userid, itemid and rating", 
      "    axis: which axis to treat as examples (0 or 1)", 
      "    k: number of dimensions in embedding", 
      "    Returns:", 
      "    numpy matrix of shape (m,k) where m is the number of unique userids in df when axis=0", 
      "    and m is the number of unique itemids in df when axis=1", 
      "    \"\"\"", 
      "    def __init__(self, df, axis=0, k=2):", 
      "        ", 
      "        self.rating = df['rating']", 
      "        ", 
      "        self.A = sp.csr_matrix( (df['rating'],(df['userid'],df['itemid'])), shape=(len(df['userid'][indx].values), len(df['itemid'][indx].values)) )", 
      "", 
      "        if axis == 1:", 
      "            self.A = self.A.transpose()", 
      "        #center the data", 
      "        self.mean = self.A.mean()", 
      "        self.A -= self.mean", 
      "        #scale the data", 
      "        std = self.A.std()", 
      "        self.std = np.where( std, std, 1. )", 
      "        if verbose:", 
      "            print \"Center /= A.std:\", self.std", 
      "        self.A /= self.std #end scaling", 
      "        #end centering", 
      "", 
      "        #", 
      "        self.U, self.d, self.Vt = sp.linalg.svd( self.A )#leaving out optional 'K' so that we can get however many we want from doing the calculations again on stored data.", 
      "        assert np.all( self.d[:-1] >= self.d[1:] )  # sorted", 
      "        self.eigen = self.d**2", 
      "        self.sumvariance = np.cumsum(self.eigen)", 
      "        self.sumvariance /= self.sumvariance[-1]", 
      "        #npc -> number of principal components that are greater than .90 of variance", 
      "        self.npc = np.searchsorted( self.sumvariance, .90 ) + 1", 
      "        ", 
      "        self.dinv = np.array([ 1/d if d > self.d[0] * 1e-6  else 0", 
      "                                for d in self.d ])", 
      "        ", 
      "        self.ret = self.U[:, :k] * self.d[:k]", 
      "</code>", 
      "</pred>"
     ]
    }, 
    {
     "cell_type": "markdown", 
     "source": [
      "Q2: Plot a two-dimensional embedding of movies labeled by genre. Discuss."
     ]
    }, 
    {
     "cell_type": "code", 
     "collapsed": true, 
     "input": [], 
     "language": "python", 
     "outputs": []
    }, 
    {
     "cell_type": "markdown", 
     "source": [
      "Q3: Plot a two-dimensional embedding of users. Is there any salient structure explainable by the user features in the database?"
     ]
    }, 
    {
     "cell_type": "markdown", 
     "source": [
      "Q4: Implement a method that uses low dimensional embeddings to calculate expected ratings using collaborative filtering. This requires that you define similarity on the low-dimensional space. ", 
      "Compare collaborative filtering expected ratings from low-dimensional embedding to those we got originally from the high-dimensional space. Discuss the effect of the cardinality of the low-dimensional", 
      "space on the accuracy of these ratings."
     ]
    }, 
    {
     "cell_type": "markdown", 
     "source": [
      "###Part II: Classification using new ratings"
     ]
    }, 
    {
     "cell_type": "markdown", 
     "source": [
      "Q5: Add the new collaborative filtering ratings from Part I to your best classifier from PA03. Discuss accuracy performance."
     ]
    }, 
    {
     "cell_type": "markdown", 
     "source": [
      "###Part III: Ratings challenge", 
      "", 
      "Q6: Submit a classifier for a final semester contest. The goal is to predict ratings (1-5, not isgood). You are free to use any method or code you choose. The only constriaint is that your classifier", 
      "has the following signature:", 
      "", 
      "<pre>", 
      "<code>", 
      "def rating_class(df, ratings):", 
      "\"\"\"", 
      "Build a movie rating predictor", 
      "", 
      "Arguments:", 
      "df: a pandas DataFrame with the same features as the data in PA03 (it may not contain the isgood column so you shouldn't refer to it) without the ratings column.", 
      "ratings: a pandas Series with ratings between 1-5", 
      "", 
      "Returns:", 
      "An object with a predict method as described below", 
      "\"\"\"", 
      "</code>", 
      "</pred>"
     ]
    }, 
    {
     "cell_type": "markdown", 
     "source": [
      "The function should return an object with a `predict` method with the following signature:", 
      "", 
      "<pre>", 
      "<code>", 
      "def predict(df):", 
      "\"\"\"", 
      "Predict movie ratings for dataframe df", 
      "", 
      "Arguments:", 
      "df: a pandas DataFrame with the same features as the data in PA03 (it may not contain the isgood column so you shouldn't refer to it)", 
      "", 
      "Returns:", 
      "Predictions (between 1-5) for each of the user-movie pairs in df", 
      "\"\"\"", 
      "</code>", 
      "</pre>"
     ]
    }, 
    {
     "cell_type": "markdown", 
     "source": [
      "We will evaluate your classifier using mean squared error (your classifier can return any real number between 1-5). Please describe how your", 
      "method predicts ratings."
     ]
    }, 
    {
     "cell_type": "code", 
     "collapsed": true, 
     "input": [], 
     "language": "python", 
     "outputs": []
    }
   ]
  }
 ]
}